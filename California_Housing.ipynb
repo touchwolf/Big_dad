{
  "nbformat": 4,
  "nbformat_minor": 0,
  "metadata": {
    "colab": {
      "name": "California_Housing.ipynb",
      "version": "0.3.2",
      "provenance": [],
      "include_colab_link": true
    },
    "kernelspec": {
      "name": "python3",
      "display_name": "Python 3"
    }
  },
  "cells": [
    {
      "cell_type": "markdown",
      "metadata": {
        "id": "view-in-github",
        "colab_type": "text"
      },
      "source": [
        "<a href=\"https://colab.research.google.com/github/touchwolf/Big_dad/blob/master/California_Housing.ipynb\" target=\"_parent\"><img src=\"https://colab.research.google.com/assets/colab-badge.svg\" alt=\"Open In Colab\"/></a>"
      ]
    },
    {
      "metadata": {
        "id": "bmXtoHUdGRbK",
        "colab_type": "code",
        "colab": {}
      },
      "cell_type": "code",
      "source": [
        "from __future__ import print_function\n",
        "\n",
        "import math\n",
        "\n",
        "from IPython import display\n",
        "from matplotlib import cm, gridspec\n",
        "from matplotlib import pyplot as plt\n",
        "\n",
        "import numpy as np\n",
        "import pandas as pd\n",
        "from sklearn import metrics# 指标includes score functions, performance metrics and pairwise metrics and distance computations.\n",
        "from tensorflow.python.data import Dataset\n",
        "import tensorflow as tf\n",
        "\n",
        "tf.logging.set_verbosity(tf.logging.ERROR)#收到包含ERROR和FATAL的日志输出\n",
        "pd.options.display.max_rows = 10\n",
        "pd.options.display.float_format = '{:.1f}'.format#设定输出格式"
      ],
      "execution_count": 0,
      "outputs": []
    },
    {
      "metadata": {
        "id": "YvtAIWV-IZW5",
        "colab_type": "code",
        "colab": {}
      },
      "cell_type": "code",
      "source": [
        "california_housing_dataframe = pd.read_csv(\"https://download.mlcc.google.cn/mledu-datasets/california_housing_train.csv\", sep=\",\")"
      ],
      "execution_count": 0,
      "outputs": []
    },
    {
      "metadata": {
        "id": "JdQ3wLtpvw6Z",
        "colab_type": "code",
        "outputId": "3be8a2e3-ae4c-49c3-cff0-b98639191c97",
        "colab": {
          "base_uri": "https://localhost:8080/",
          "height": 402
        }
      },
      "cell_type": "code",
      "source": [
        "california_housing_dataframe = california_housing_dataframe.reindex(\n",
        "np.random.permutation(california_housing_dataframe.index))\n",
        "california_housing_dataframe[\"median_house_value\"] /= 1000\n",
        "california_housing_dataframe"
      ],
      "execution_count": 0,
      "outputs": [
        {
          "output_type": "execute_result",
          "data": {
            "text/html": [
              "<div>\n",
              "<style scoped>\n",
              "    .dataframe tbody tr th:only-of-type {\n",
              "        vertical-align: middle;\n",
              "    }\n",
              "\n",
              "    .dataframe tbody tr th {\n",
              "        vertical-align: top;\n",
              "    }\n",
              "\n",
              "    .dataframe thead th {\n",
              "        text-align: right;\n",
              "    }\n",
              "</style>\n",
              "<table border=\"1\" class=\"dataframe\">\n",
              "  <thead>\n",
              "    <tr style=\"text-align: right;\">\n",
              "      <th></th>\n",
              "      <th>longitude</th>\n",
              "      <th>latitude</th>\n",
              "      <th>housing_median_age</th>\n",
              "      <th>total_rooms</th>\n",
              "      <th>total_bedrooms</th>\n",
              "      <th>population</th>\n",
              "      <th>households</th>\n",
              "      <th>median_income</th>\n",
              "      <th>median_house_value</th>\n",
              "    </tr>\n",
              "  </thead>\n",
              "  <tbody>\n",
              "    <tr>\n",
              "      <th>10316</th>\n",
              "      <td>-120.1</td>\n",
              "      <td>39.2</td>\n",
              "      <td>19.0</td>\n",
              "      <td>1746.0</td>\n",
              "      <td>306.0</td>\n",
              "      <td>251.0</td>\n",
              "      <td>104.0</td>\n",
              "      <td>4.8</td>\n",
              "      <td>146.9</td>\n",
              "    </tr>\n",
              "    <tr>\n",
              "      <th>12107</th>\n",
              "      <td>-121.4</td>\n",
              "      <td>37.7</td>\n",
              "      <td>40.0</td>\n",
              "      <td>859.0</td>\n",
              "      <td>196.0</td>\n",
              "      <td>427.0</td>\n",
              "      <td>176.0</td>\n",
              "      <td>3.6</td>\n",
              "      <td>110.4</td>\n",
              "    </tr>\n",
              "    <tr>\n",
              "      <th>3438</th>\n",
              "      <td>-117.9</td>\n",
              "      <td>33.9</td>\n",
              "      <td>28.0</td>\n",
              "      <td>1395.0</td>\n",
              "      <td>398.0</td>\n",
              "      <td>1220.0</td>\n",
              "      <td>362.0</td>\n",
              "      <td>3.3</td>\n",
              "      <td>193.8</td>\n",
              "    </tr>\n",
              "    <tr>\n",
              "      <th>3708</th>\n",
              "      <td>-117.9</td>\n",
              "      <td>34.1</td>\n",
              "      <td>34.0</td>\n",
              "      <td>1409.0</td>\n",
              "      <td>305.0</td>\n",
              "      <td>819.0</td>\n",
              "      <td>273.0</td>\n",
              "      <td>3.4</td>\n",
              "      <td>188.8</td>\n",
              "    </tr>\n",
              "    <tr>\n",
              "      <th>16790</th>\n",
              "      <td>-123.1</td>\n",
              "      <td>38.4</td>\n",
              "      <td>28.0</td>\n",
              "      <td>3297.0</td>\n",
              "      <td>676.0</td>\n",
              "      <td>923.0</td>\n",
              "      <td>373.0</td>\n",
              "      <td>3.9</td>\n",
              "      <td>232.6</td>\n",
              "    </tr>\n",
              "    <tr>\n",
              "      <th>...</th>\n",
              "      <td>...</td>\n",
              "      <td>...</td>\n",
              "      <td>...</td>\n",
              "      <td>...</td>\n",
              "      <td>...</td>\n",
              "      <td>...</td>\n",
              "      <td>...</td>\n",
              "      <td>...</td>\n",
              "      <td>...</td>\n",
              "    </tr>\n",
              "    <tr>\n",
              "      <th>4449</th>\n",
              "      <td>-118.0</td>\n",
              "      <td>33.8</td>\n",
              "      <td>32.0</td>\n",
              "      <td>3191.0</td>\n",
              "      <td>634.0</td>\n",
              "      <td>1718.0</td>\n",
              "      <td>611.0</td>\n",
              "      <td>4.2</td>\n",
              "      <td>216.6</td>\n",
              "    </tr>\n",
              "    <tr>\n",
              "      <th>11411</th>\n",
              "      <td>-121.2</td>\n",
              "      <td>38.7</td>\n",
              "      <td>27.0</td>\n",
              "      <td>5266.0</td>\n",
              "      <td>971.0</td>\n",
              "      <td>2432.0</td>\n",
              "      <td>948.0</td>\n",
              "      <td>3.9</td>\n",
              "      <td>133.0</td>\n",
              "    </tr>\n",
              "    <tr>\n",
              "      <th>8237</th>\n",
              "      <td>-118.4</td>\n",
              "      <td>34.0</td>\n",
              "      <td>39.0</td>\n",
              "      <td>3278.0</td>\n",
              "      <td>632.0</td>\n",
              "      <td>1321.0</td>\n",
              "      <td>617.0</td>\n",
              "      <td>6.3</td>\n",
              "      <td>465.7</td>\n",
              "    </tr>\n",
              "    <tr>\n",
              "      <th>12926</th>\n",
              "      <td>-121.8</td>\n",
              "      <td>36.6</td>\n",
              "      <td>33.0</td>\n",
              "      <td>1771.0</td>\n",
              "      <td>398.0</td>\n",
              "      <td>1037.0</td>\n",
              "      <td>388.0</td>\n",
              "      <td>2.8</td>\n",
              "      <td>161.8</td>\n",
              "    </tr>\n",
              "    <tr>\n",
              "      <th>474</th>\n",
              "      <td>-117.0</td>\n",
              "      <td>32.9</td>\n",
              "      <td>12.0</td>\n",
              "      <td>7320.0</td>\n",
              "      <td>1279.0</td>\n",
              "      <td>4048.0</td>\n",
              "      <td>1249.0</td>\n",
              "      <td>4.4</td>\n",
              "      <td>151.7</td>\n",
              "    </tr>\n",
              "  </tbody>\n",
              "</table>\n",
              "<p>17000 rows × 9 columns</p>\n",
              "</div>"
            ],
            "text/plain": [
              "       longitude  latitude  housing_median_age  total_rooms  total_bedrooms  \\\n",
              "10316     -120.1      39.2                19.0       1746.0           306.0   \n",
              "12107     -121.4      37.7                40.0        859.0           196.0   \n",
              "3438      -117.9      33.9                28.0       1395.0           398.0   \n",
              "3708      -117.9      34.1                34.0       1409.0           305.0   \n",
              "16790     -123.1      38.4                28.0       3297.0           676.0   \n",
              "...          ...       ...                 ...          ...             ...   \n",
              "4449      -118.0      33.8                32.0       3191.0           634.0   \n",
              "11411     -121.2      38.7                27.0       5266.0           971.0   \n",
              "8237      -118.4      34.0                39.0       3278.0           632.0   \n",
              "12926     -121.8      36.6                33.0       1771.0           398.0   \n",
              "474       -117.0      32.9                12.0       7320.0          1279.0   \n",
              "\n",
              "       population  households  median_income  median_house_value  \n",
              "10316       251.0       104.0            4.8               146.9  \n",
              "12107       427.0       176.0            3.6               110.4  \n",
              "3438       1220.0       362.0            3.3               193.8  \n",
              "3708        819.0       273.0            3.4               188.8  \n",
              "16790       923.0       373.0            3.9               232.6  \n",
              "...           ...         ...            ...                 ...  \n",
              "4449       1718.0       611.0            4.2               216.6  \n",
              "11411      2432.0       948.0            3.9               133.0  \n",
              "8237       1321.0       617.0            6.3               465.7  \n",
              "12926      1037.0       388.0            2.8               161.8  \n",
              "474        4048.0      1249.0            4.4               151.7  \n",
              "\n",
              "[17000 rows x 9 columns]"
            ]
          },
          "metadata": {
            "tags": []
          },
          "execution_count": 17
        }
      ]
    },
    {
      "metadata": {
        "id": "A9h7RthQkuPQ",
        "colab_type": "code",
        "outputId": "ae71c8e6-2330-46d2-f1f8-0be8311115f3",
        "colab": {
          "base_uri": "https://localhost:8080/",
          "height": 402
        }
      },
      "cell_type": "code",
      "source": [
        "california_housing_dataframe[[\"total_rooms\"]]"
      ],
      "execution_count": 0,
      "outputs": [
        {
          "output_type": "execute_result",
          "data": {
            "text/html": [
              "<div>\n",
              "<style scoped>\n",
              "    .dataframe tbody tr th:only-of-type {\n",
              "        vertical-align: middle;\n",
              "    }\n",
              "\n",
              "    .dataframe tbody tr th {\n",
              "        vertical-align: top;\n",
              "    }\n",
              "\n",
              "    .dataframe thead th {\n",
              "        text-align: right;\n",
              "    }\n",
              "</style>\n",
              "<table border=\"1\" class=\"dataframe\">\n",
              "  <thead>\n",
              "    <tr style=\"text-align: right;\">\n",
              "      <th></th>\n",
              "      <th>total_rooms</th>\n",
              "    </tr>\n",
              "  </thead>\n",
              "  <tbody>\n",
              "    <tr>\n",
              "      <th>10316</th>\n",
              "      <td>1746.0</td>\n",
              "    </tr>\n",
              "    <tr>\n",
              "      <th>12107</th>\n",
              "      <td>859.0</td>\n",
              "    </tr>\n",
              "    <tr>\n",
              "      <th>3438</th>\n",
              "      <td>1395.0</td>\n",
              "    </tr>\n",
              "    <tr>\n",
              "      <th>3708</th>\n",
              "      <td>1409.0</td>\n",
              "    </tr>\n",
              "    <tr>\n",
              "      <th>16790</th>\n",
              "      <td>3297.0</td>\n",
              "    </tr>\n",
              "    <tr>\n",
              "      <th>...</th>\n",
              "      <td>...</td>\n",
              "    </tr>\n",
              "    <tr>\n",
              "      <th>4449</th>\n",
              "      <td>3191.0</td>\n",
              "    </tr>\n",
              "    <tr>\n",
              "      <th>11411</th>\n",
              "      <td>5266.0</td>\n",
              "    </tr>\n",
              "    <tr>\n",
              "      <th>8237</th>\n",
              "      <td>3278.0</td>\n",
              "    </tr>\n",
              "    <tr>\n",
              "      <th>12926</th>\n",
              "      <td>1771.0</td>\n",
              "    </tr>\n",
              "    <tr>\n",
              "      <th>474</th>\n",
              "      <td>7320.0</td>\n",
              "    </tr>\n",
              "  </tbody>\n",
              "</table>\n",
              "<p>17000 rows × 1 columns</p>\n",
              "</div>"
            ],
            "text/plain": [
              "       total_rooms\n",
              "10316       1746.0\n",
              "12107        859.0\n",
              "3438        1395.0\n",
              "3708        1409.0\n",
              "16790       3297.0\n",
              "...            ...\n",
              "4449        3191.0\n",
              "11411       5266.0\n",
              "8237        3278.0\n",
              "12926       1771.0\n",
              "474         7320.0\n",
              "\n",
              "[17000 rows x 1 columns]"
            ]
          },
          "metadata": {
            "tags": []
          },
          "execution_count": 23
        }
      ]
    },
    {
      "metadata": {
        "id": "BqLmlFGfj2Jh",
        "colab_type": "text"
      },
      "cell_type": "markdown",
      "source": [
        "## 检查数据\n",
        "\n",
        "会输出各列的一些实用统计信息\n",
        "\n",
        "样本数，均值，标准偏差，最大值，最小值，分位数"
      ]
    },
    {
      "metadata": {
        "id": "kPm7kn7rkI2v",
        "colab_type": "code",
        "outputId": "e5ded243-b586-4b3f-ea46-863a14ae638c",
        "colab": {
          "base_uri": "https://localhost:8080/",
          "height": 284
        }
      },
      "cell_type": "code",
      "source": [
        "california_housing_dataframe.describe()"
      ],
      "execution_count": 0,
      "outputs": [
        {
          "output_type": "execute_result",
          "data": {
            "text/html": [
              "<div>\n",
              "<style scoped>\n",
              "    .dataframe tbody tr th:only-of-type {\n",
              "        vertical-align: middle;\n",
              "    }\n",
              "\n",
              "    .dataframe tbody tr th {\n",
              "        vertical-align: top;\n",
              "    }\n",
              "\n",
              "    .dataframe thead th {\n",
              "        text-align: right;\n",
              "    }\n",
              "</style>\n",
              "<table border=\"1\" class=\"dataframe\">\n",
              "  <thead>\n",
              "    <tr style=\"text-align: right;\">\n",
              "      <th></th>\n",
              "      <th>longitude</th>\n",
              "      <th>latitude</th>\n",
              "      <th>housing_median_age</th>\n",
              "      <th>total_rooms</th>\n",
              "      <th>total_bedrooms</th>\n",
              "      <th>population</th>\n",
              "      <th>households</th>\n",
              "      <th>median_income</th>\n",
              "      <th>median_house_value</th>\n",
              "    </tr>\n",
              "  </thead>\n",
              "  <tbody>\n",
              "    <tr>\n",
              "      <th>count</th>\n",
              "      <td>17000.0</td>\n",
              "      <td>17000.0</td>\n",
              "      <td>17000.0</td>\n",
              "      <td>17000.0</td>\n",
              "      <td>17000.0</td>\n",
              "      <td>17000.0</td>\n",
              "      <td>17000.0</td>\n",
              "      <td>17000.0</td>\n",
              "      <td>17000.0</td>\n",
              "    </tr>\n",
              "    <tr>\n",
              "      <th>mean</th>\n",
              "      <td>-119.6</td>\n",
              "      <td>35.6</td>\n",
              "      <td>28.6</td>\n",
              "      <td>2643.7</td>\n",
              "      <td>539.4</td>\n",
              "      <td>1429.6</td>\n",
              "      <td>501.2</td>\n",
              "      <td>3.9</td>\n",
              "      <td>207.3</td>\n",
              "    </tr>\n",
              "    <tr>\n",
              "      <th>std</th>\n",
              "      <td>2.0</td>\n",
              "      <td>2.1</td>\n",
              "      <td>12.6</td>\n",
              "      <td>2179.9</td>\n",
              "      <td>421.5</td>\n",
              "      <td>1147.9</td>\n",
              "      <td>384.5</td>\n",
              "      <td>1.9</td>\n",
              "      <td>116.0</td>\n",
              "    </tr>\n",
              "    <tr>\n",
              "      <th>min</th>\n",
              "      <td>-124.3</td>\n",
              "      <td>32.5</td>\n",
              "      <td>1.0</td>\n",
              "      <td>2.0</td>\n",
              "      <td>1.0</td>\n",
              "      <td>3.0</td>\n",
              "      <td>1.0</td>\n",
              "      <td>0.5</td>\n",
              "      <td>15.0</td>\n",
              "    </tr>\n",
              "    <tr>\n",
              "      <th>25%</th>\n",
              "      <td>-121.8</td>\n",
              "      <td>33.9</td>\n",
              "      <td>18.0</td>\n",
              "      <td>1462.0</td>\n",
              "      <td>297.0</td>\n",
              "      <td>790.0</td>\n",
              "      <td>282.0</td>\n",
              "      <td>2.6</td>\n",
              "      <td>119.4</td>\n",
              "    </tr>\n",
              "    <tr>\n",
              "      <th>50%</th>\n",
              "      <td>-118.5</td>\n",
              "      <td>34.2</td>\n",
              "      <td>29.0</td>\n",
              "      <td>2127.0</td>\n",
              "      <td>434.0</td>\n",
              "      <td>1167.0</td>\n",
              "      <td>409.0</td>\n",
              "      <td>3.5</td>\n",
              "      <td>180.4</td>\n",
              "    </tr>\n",
              "    <tr>\n",
              "      <th>75%</th>\n",
              "      <td>-118.0</td>\n",
              "      <td>37.7</td>\n",
              "      <td>37.0</td>\n",
              "      <td>3151.2</td>\n",
              "      <td>648.2</td>\n",
              "      <td>1721.0</td>\n",
              "      <td>605.2</td>\n",
              "      <td>4.8</td>\n",
              "      <td>265.0</td>\n",
              "    </tr>\n",
              "    <tr>\n",
              "      <th>max</th>\n",
              "      <td>-114.3</td>\n",
              "      <td>42.0</td>\n",
              "      <td>52.0</td>\n",
              "      <td>37937.0</td>\n",
              "      <td>6445.0</td>\n",
              "      <td>35682.0</td>\n",
              "      <td>6082.0</td>\n",
              "      <td>15.0</td>\n",
              "      <td>500.0</td>\n",
              "    </tr>\n",
              "  </tbody>\n",
              "</table>\n",
              "</div>"
            ],
            "text/plain": [
              "       longitude  latitude  housing_median_age  total_rooms  total_bedrooms  \\\n",
              "count    17000.0   17000.0             17000.0      17000.0         17000.0   \n",
              "mean      -119.6      35.6                28.6       2643.7           539.4   \n",
              "std          2.0       2.1                12.6       2179.9           421.5   \n",
              "min       -124.3      32.5                 1.0          2.0             1.0   \n",
              "25%       -121.8      33.9                18.0       1462.0           297.0   \n",
              "50%       -118.5      34.2                29.0       2127.0           434.0   \n",
              "75%       -118.0      37.7                37.0       3151.2           648.2   \n",
              "max       -114.3      42.0                52.0      37937.0          6445.0   \n",
              "\n",
              "       population  households  median_income  median_house_value  \n",
              "count     17000.0     17000.0        17000.0             17000.0  \n",
              "mean       1429.6       501.2            3.9               207.3  \n",
              "std        1147.9       384.5            1.9               116.0  \n",
              "min           3.0         1.0            0.5                15.0  \n",
              "25%         790.0       282.0            2.6               119.4  \n",
              "50%        1167.0       409.0            3.5               180.4  \n",
              "75%        1721.0       605.2            4.8               265.0  \n",
              "max       35682.0      6082.0           15.0               500.0  "
            ]
          },
          "metadata": {
            "tags": []
          },
          "execution_count": 18
        }
      ]
    },
    {
      "metadata": {
        "id": "7X7186hqkOCw",
        "colab_type": "code",
        "colab": {}
      },
      "cell_type": "code",
      "source": [
        "#多使用了中括号\n",
        "my_feature = california_housing_dataframe[\"total_rooms\"]\n",
        "\n",
        "feature_columns = [tf.feature_column.numeric_column(\"total_rooms\")]"
      ],
      "execution_count": 0,
      "outputs": []
    },
    {
      "metadata": {
        "id": "NVxh9LV2mNfo",
        "colab_type": "code",
        "colab": {}
      },
      "cell_type": "code",
      "source": [
        "targets = california_housing_dataframe[\"median_house_value\"]"
      ],
      "execution_count": 0,
      "outputs": []
    },
    {
      "metadata": {
        "id": "GcMyQhZ4ml6t",
        "colab_type": "code",
        "colab": {}
      },
      "cell_type": "code",
      "source": [
        "my_optimizer = tf.train.GradientDescentOptimizer(learning_rate = 0.000001)\n",
        "my_optimizer = tf.contrib.estimator.clip_gradients_by_norm(my_optimizer, 5.0)\n",
        "\n",
        "linear_regressor = tf.estimator.LinearRegressor(\n",
        "  feature_columns = feature_columns,\n",
        "  optimizer = my_optimizer\n",
        ")"
      ],
      "execution_count": 0,
      "outputs": []
    },
    {
      "metadata": {
        "id": "h4pGqj06ndS1",
        "colab_type": "code",
        "colab": {}
      },
      "cell_type": "code",
      "source": [
        "def my_input_fn(features, targets, batch_size = 1, shuffle = True, num_epochs = None):\n",
        "  features = {key:np.array(value) for key,value in dict(features).items()}\n",
        "  \n",
        "  ds = Dataset.from_tensor_slices((features, targets))\n",
        "  ds = ds.batch(batch_size).repeat(num_epochs)\n",
        "  \n",
        "  if shuffle:\n",
        "    ds = ds.shuffle(buffer_size = 10000)\n",
        "  \n",
        "  features, labels = ds.make_one_shot_iterator().get_next()#one_shot迭代器，使用一次数据后即丢弃\n",
        "  return features, labels"
      ],
      "execution_count": 0,
      "outputs": []
    },
    {
      "metadata": {
        "id": "YbwTGN_NrEKs",
        "colab_type": "text"
      },
      "cell_type": "markdown",
      "source": [
        "#不加入Lambda函数训练时会出错"
      ]
    },
    {
      "metadata": {
        "id": "RNyolgAUqmga",
        "colab_type": "code",
        "colab": {}
      },
      "cell_type": "code",
      "source": [
        "_ = linear_regressor.train(\n",
        "    input_fn = lambda: my_input_fn(my_feature, targets),\n",
        "    steps = 100)"
      ],
      "execution_count": 0,
      "outputs": []
    },
    {
      "metadata": {
        "id": "zlLXmLOirLd6",
        "colab_type": "code",
        "outputId": "8a69de75-f559-470a-b8b3-95defdd7a15d",
        "colab": {
          "base_uri": "https://localhost:8080/",
          "height": 50
        }
      },
      "cell_type": "code",
      "source": [
        "prediction_input_fn = lambda: my_input_fn(my_feature, targets, num_epochs = 1, shuffle = False)\n",
        "\n",
        "predictions = linear_regressor.predict(input_fn  = prediction_input_fn)\n",
        "\n",
        "predictions = np.array([item['predictions'][0] for item in predictions])\n",
        "\n",
        "mean_squared_error = metrics.mean_squared_error(predictions, targets)\n",
        "root_mean_squared_error = math.sqrt(mean_squared_error)\n",
        "print(\"Mean squared Error(on trainging data): %0.3f\" % mean_squared_error)\n",
        "print(\"Root Mean Error(on training data): % 0.3f\" % root_mean_squared_error)"
      ],
      "execution_count": 0,
      "outputs": [
        {
          "output_type": "stream",
          "text": [
            "Mean squared Error(on trainging data): 55846.894\n",
            "Root Mean Error(on training data):  236.319\n"
          ],
          "name": "stdout"
        }
      ]
    },
    {
      "metadata": {
        "id": "YVUvCGAlsi1w",
        "colab_type": "code",
        "outputId": "70f0a475-31e0-40c7-f32a-d5d07680b852",
        "colab": {
          "base_uri": "https://localhost:8080/",
          "height": 84
        }
      },
      "cell_type": "code",
      "source": [
        "min_house_value = california_housing_dataframe[\"median_house_value\"].min()\n",
        "max_house_value = california_housing_dataframe[\"median_house_value\"].max()\n",
        "min_max_difference = max_house_value - min_house_value\n",
        "\n",
        "print(\"Min. Median House Value: %0.3f\" % min_house_value)\n",
        "print(\"Max. Median House Value: %0.3f\" % max_house_value)\n",
        "print(\"Difference between Min. and Max.: %0.3f\" % min_max_difference)\n",
        "print(\"Root Mean Squared Error: %0.3f\" % root_mean_squared_error)"
      ],
      "execution_count": 0,
      "outputs": [
        {
          "output_type": "stream",
          "text": [
            "Min. Median House Value: 14.999\n",
            "Max. Median House Value: 500.001\n",
            "Difference between Min. and Max.: 485.002\n",
            "Root Mean Squared Error: 236.319\n"
          ],
          "name": "stdout"
        }
      ]
    },
    {
      "metadata": {
        "id": "iZZr78SksxjS",
        "colab_type": "code",
        "outputId": "274d93a0-976e-435c-c9dd-4e14bff8c2e9",
        "colab": {
          "base_uri": "https://localhost:8080/",
          "height": 284
        }
      },
      "cell_type": "code",
      "source": [
        "calibration_data = pd.DataFrame()\n",
        "calibration_data[\"predictions\"] = pd.Series(predictions)\n",
        "calibration_data[\"targets\"] = pd.Series(targets)\n",
        "calibration_data.describe()"
      ],
      "execution_count": 0,
      "outputs": [
        {
          "output_type": "execute_result",
          "data": {
            "text/html": [
              "<div>\n",
              "<style scoped>\n",
              "    .dataframe tbody tr th:only-of-type {\n",
              "        vertical-align: middle;\n",
              "    }\n",
              "\n",
              "    .dataframe tbody tr th {\n",
              "        vertical-align: top;\n",
              "    }\n",
              "\n",
              "    .dataframe thead th {\n",
              "        text-align: right;\n",
              "    }\n",
              "</style>\n",
              "<table border=\"1\" class=\"dataframe\">\n",
              "  <thead>\n",
              "    <tr style=\"text-align: right;\">\n",
              "      <th></th>\n",
              "      <th>predictions</th>\n",
              "      <th>targets</th>\n",
              "    </tr>\n",
              "  </thead>\n",
              "  <tbody>\n",
              "    <tr>\n",
              "      <th>count</th>\n",
              "      <td>17000.0</td>\n",
              "      <td>17000.0</td>\n",
              "    </tr>\n",
              "    <tr>\n",
              "      <th>mean</th>\n",
              "      <td>1.3</td>\n",
              "      <td>207.3</td>\n",
              "    </tr>\n",
              "    <tr>\n",
              "      <th>std</th>\n",
              "      <td>1.1</td>\n",
              "      <td>116.0</td>\n",
              "    </tr>\n",
              "    <tr>\n",
              "      <th>min</th>\n",
              "      <td>0.0</td>\n",
              "      <td>15.0</td>\n",
              "    </tr>\n",
              "    <tr>\n",
              "      <th>25%</th>\n",
              "      <td>0.7</td>\n",
              "      <td>119.4</td>\n",
              "    </tr>\n",
              "    <tr>\n",
              "      <th>50%</th>\n",
              "      <td>1.1</td>\n",
              "      <td>180.4</td>\n",
              "    </tr>\n",
              "    <tr>\n",
              "      <th>75%</th>\n",
              "      <td>1.6</td>\n",
              "      <td>265.0</td>\n",
              "    </tr>\n",
              "    <tr>\n",
              "      <th>max</th>\n",
              "      <td>19.0</td>\n",
              "      <td>500.0</td>\n",
              "    </tr>\n",
              "  </tbody>\n",
              "</table>\n",
              "</div>"
            ],
            "text/plain": [
              "       predictions  targets\n",
              "count      17000.0  17000.0\n",
              "mean           1.3    207.3\n",
              "std            1.1    116.0\n",
              "min            0.0     15.0\n",
              "25%            0.7    119.4\n",
              "50%            1.1    180.4\n",
              "75%            1.6    265.0\n",
              "max           19.0    500.0"
            ]
          },
          "metadata": {
            "tags": []
          },
          "execution_count": 44
        }
      ]
    },
    {
      "metadata": {
        "id": "gJ7G8aDatfba",
        "colab_type": "code",
        "colab": {}
      },
      "cell_type": "code",
      "source": [
        "sample = california_housing_dataframe.sample(n =300)"
      ],
      "execution_count": 0,
      "outputs": []
    },
    {
      "metadata": {
        "id": "CyZl9dH0tm3c",
        "colab_type": "code",
        "outputId": "e7c60898-6135-449d-dc9e-e7a087945390",
        "colab": {
          "base_uri": "https://localhost:8080/",
          "height": 361
        }
      },
      "cell_type": "code",
      "source": [
        "x_0 = sample[\"total_rooms\"].min()\n",
        "x_1 = sample[\"total_rooms\"].max()\n",
        "\n",
        "weight = linear_regressor.get_variable_value('linear/linear_model/total_rooms/weights')[0]\n",
        "bias = linear_regressor.get_variable_value('linear/linear_model/bias_weights')\n",
        "\n",
        "y_0 = weight * x_0 + bias\n",
        "y_1 = weight * x_1 + bias\n",
        "\n",
        "plt.plot([x_0,x_1], [y_0,y_1], c = 'r')\n",
        "\n",
        "plt.ylabel(\"median_house_value\")\n",
        "plt.xlabel(\"total_rooms\")\n",
        "\n",
        "plt.scatter(sample[\"total_rooms\"], sample[\"median_house_value\"])\n",
        "plt.show()"
      ],
      "execution_count": 0,
      "outputs": [
        {
          "output_type": "display_data",
          "data": {
            "image/png": "[encoded data removed]",
            "text/plain": [
              "<matplotlib.figure.Figure at 0x7f664bac9518>"
            ]
          },
          "metadata": {
            "tags": []
          }
        }
      ]
    },
    {
      "metadata": {
        "id": "6ZezKSIymChq",
        "colab_type": "text"
      },
      "cell_type": "markdown",
      "source": [
        ""
      ]
    }
  ]
}